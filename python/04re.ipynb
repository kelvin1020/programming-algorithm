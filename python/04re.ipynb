{
 "cells": [
  {
   "cell_type": "code",
   "execution_count": 2,
   "metadata": {},
   "outputs": [],
   "source": [
    "import re  #regular expression 正则表达式"
   ]
  },
  {
   "cell_type": "markdown",
   "metadata": {},
   "source": [
    "# re.compile, re.search, re.match"
   ]
  },
  {
   "cell_type": "code",
   "execution_count": 3,
   "metadata": {},
   "outputs": [
    {
     "name": "stdout",
     "output_type": "stream",
     "text": [
      "For str1, <re.Match object; span=(0, 7), match='afjl fa'>\n",
      "For str2, None\n",
      "For search, <re.Match object; span=(1, 6), match='ajlff'>\n",
      "For match, None\n"
     ]
    }
   ],
   "source": [
    "ans = re.compile(\"a.*\")                #创建模式对象\n",
    "# ans = re.compile(\"a.*f$\")              #要匹配末尾可加$符号\n",
    "\n",
    "\n",
    "str1 = \"afjl fa\"            \n",
    "str2 = \"fjlff\"\n",
    "str3 = \"fajlff\"\n",
    "\n",
    "print(\"For str1,\", ans.search(str1))#匹配str1，返回Match object对象\n",
    "print(\"For str2,\", ans.search(str2))#匹配str2，返回None\n",
    "\n",
    "print(\"For search,\", ans.search(str3)) #用search匹配，在字符串中搜寻，返回Match object对象\n",
    "print(\"For match,\", ans.match(str3))   #用match匹配， 只匹配开头，返回None"
   ]
  },
  {
   "cell_type": "markdown",
   "metadata": {},
   "source": [
    "# re.split"
   ]
  },
  {
   "cell_type": "code",
   "execution_count": 4,
   "metadata": {},
   "outputs": [
    {
     "name": "stdout",
     "output_type": "stream",
     "text": [
      "['alpha', 'beta', 'gamma', 'delta']\n",
      "['alpha', 'beta', 'gamma, delta']\n"
     ]
    }
   ],
   "source": [
    "ans2 = re.compile(\"[, ]+\")                #创建模式对象 []创建了一个字符集，此处允许使用任何数量的逗号和空格,比str.split更强\n",
    "str4 = 'alpha,, beta,   gamma, delta'     #如果是'o(o)‘，则圆括号括起来的也会散布在返回的列表中\n",
    "print(ans2.split(str4))                   #返回值是子字符串的列表\n",
    "print(ans2.split(str4, maxsplit = 2))     #maxsplit指定最大的分开次数"
   ]
  },
  {
   "cell_type": "markdown",
   "metadata": {},
   "source": [
    "# re.findall"
   ]
  },
  {
   "cell_type": "code",
   "execution_count": 5,
   "metadata": {},
   "outputs": [
    {
     "name": "stdout",
     "output_type": "stream",
     "text": [
      "['Hm', 'Err', 'are', 'you', 'sure', 'he', 'said', 'sounding', 'insecure']\n",
      "['\"', '...', '--', '?\"', ',']\n"
     ]
    }
   ],
   "source": [
    "ans3 = re.compile(\"[a-zA-Z]+\")                #创建模式对象 []创建了一个字符集，匹配所有单词\n",
    "str5 = '\"Hm... Err -- are you sure?\"he said, sounding insecure'\n",
    "ans4 = re.compile('[.?\\-\",]+')                #创建模式对象 []创建了一个字符集，匹配所有标点符号\n",
    "print(ans3.findall(str5))                     #返回给定模式的所有匹配项的列表\n",
    "print(ans4.findall(str5))                     #返回给定模式的所有匹配项的列表"
   ]
  },
  {
   "cell_type": "markdown",
   "metadata": {},
   "source": [
    "# re.sub"
   ]
  },
  {
   "cell_type": "code",
   "execution_count": 6,
   "metadata": {},
   "outputs": [
    {
     "name": "stdout",
     "output_type": "stream",
     "text": [
      "Dear Mr. Gumby\n"
     ]
    }
   ],
   "source": [
    "ans5 = re.compile(\"{name}\")                 \n",
    "str6 = 'Dear {name}'\n",
    "\n",
    "print(ans5.sub('Mr. Gumby', str6))            #替换"
   ]
  },
  {
   "cell_type": "markdown",
   "metadata": {},
   "source": [
    "# re.escape"
   ]
  },
  {
   "cell_type": "code",
   "execution_count": 7,
   "metadata": {},
   "outputs": [
    {
     "data": {
      "text/plain": [
       "'www\\\\.python\\\\.org'"
      ]
     },
     "execution_count": 7,
     "metadata": {},
     "output_type": "execute_result"
    }
   ],
   "source": [
    "re.escape(\"www.python.org\")                   #escape 转义 原始字符串，返回能用于正则表达式"
   ]
  },
  {
   "cell_type": "markdown",
   "metadata": {},
   "source": [
    "# group"
   ]
  },
  {
   "cell_type": "code",
   "execution_count": 24,
   "metadata": {},
   "outputs": [
    {
     "name": "stdout",
     "output_type": "stream",
     "text": [
      "group 0,  www.python.org\n",
      "group 1,  python\n",
      "start,  4\n",
      "end,  10\n",
      "span,  (4, 10)\n"
     ]
    }
   ],
   "source": [
    "#对于MatchObject 对象\n",
    "ans6 = re.compile(r'www\\.(.*)\\..{3}')\n",
    "str7 = 'www.python.org'\n",
    "\n",
    "result = ans6.match(str7)                   #返回matchObject 对象\n",
    "\n",
    "print(\"group 0, \", result.group(0))          #group 0    模式\n",
    "print(\"group 1, \", result.group(1))          #group 1    子模式，编号为1\n",
    "print(\"start, \", result.start(1))            #start      模式开始的索引        \n",
    "print(\"end, \", result.end(1))                #end        模式结束索引+ 1\n",
    "print(\"span, \", result.span(1))              #span       返回(start, end)元组"
   ]
  }
 ],
 "metadata": {
  "hide_input": false,
  "kernelspec": {
   "display_name": "Python 3",
   "language": "python",
   "name": "python3"
  },
  "language_info": {
   "codemirror_mode": {
    "name": "ipython",
    "version": 3
   },
   "file_extension": ".py",
   "mimetype": "text/x-python",
   "name": "python",
   "nbconvert_exporter": "python",
   "pygments_lexer": "ipython3",
   "version": "3.7.3"
  },
  "latex_envs": {
   "LaTeX_envs_menu_present": true,
   "autoclose": false,
   "autocomplete": true,
   "bibliofile": "biblio.bib",
   "cite_by": "apalike",
   "current_citInitial": 1,
   "eqLabelWithNumbers": true,
   "eqNumInitial": 1,
   "hotkeys": {
    "equation": "Ctrl-E",
    "itemize": "Ctrl-I"
   },
   "labels_anchors": false,
   "latex_user_defs": false,
   "report_style_numbering": false,
   "user_envs_cfg": false
  },
  "toc": {
   "base_numbering": 1,
   "nav_menu": {},
   "number_sections": true,
   "sideBar": true,
   "skip_h1_title": false,
   "title_cell": "Table of Contents",
   "title_sidebar": "Contents",
   "toc_cell": false,
   "toc_position": {},
   "toc_section_display": true,
   "toc_window_display": false
  },
  "varInspector": {
   "cols": {
    "lenName": 16,
    "lenType": 16,
    "lenVar": 40
   },
   "kernels_config": {
    "python": {
     "delete_cmd_postfix": "",
     "delete_cmd_prefix": "del ",
     "library": "var_list.py",
     "varRefreshCmd": "print(var_dic_list())"
    },
    "r": {
     "delete_cmd_postfix": ") ",
     "delete_cmd_prefix": "rm(",
     "library": "var_list.r",
     "varRefreshCmd": "cat(var_dic_list()) "
    }
   },
   "types_to_exclude": [
    "module",
    "function",
    "builtin_function_or_method",
    "instance",
    "_Feature"
   ],
   "window_display": false
  }
 },
 "nbformat": 4,
 "nbformat_minor": 2
}
